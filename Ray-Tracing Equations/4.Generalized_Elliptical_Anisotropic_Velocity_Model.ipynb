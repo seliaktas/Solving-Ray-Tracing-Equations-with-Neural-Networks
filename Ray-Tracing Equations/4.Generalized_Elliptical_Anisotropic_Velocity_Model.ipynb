{
 "cells": [
  {
   "cell_type": "code",
   "execution_count": 1,
   "metadata": {},
   "outputs": [],
   "source": [
    "import numpy as np\n",
    "import pandas as pd"
   ]
  },
  {
   "cell_type": "code",
   "execution_count": 3,
   "metadata": {},
   "outputs": [],
   "source": [
    "a = 2\n",
    "b = 1\n",
    "c = 2.1\n",
    "d = 0.85\n",
    "t_max = 5\n",
    "dt = 0.01\n",
    "vartheta = np.pi/9\n",
    "\n",
    "p = np.sin(vartheta) / (np.sqrt( c**2 * np.sin(vartheta)**2 + a**2 * np.cos(vartheta)**2 ))\n",
    "A = np.sqrt((b**2) - ((a*d-b*c)**2) * (p**2)) / ((a*d-b*c)*p) \n",
    "B = (-b) / ((a*d-b*c) *p)\n",
    "c_1 = np.arctanh((a*d - (a*d-b*c) * np.sqrt(1- c**2 * p**2)) / (c*np.sqrt(b**2 - (a*d-b*c)**2 * p**2)))\n",
    "Y_0 = np.tanh(c_1)\n",
    "c_2 = (-2/(p*b)) * ((np.arctanh(Y_0)/(A*B)) + (np.arctan(A*Y_0+B)/B) - (1/(1+(A*Y_0 + B)**2)))\n",
    "            \n",
    "\n",
    "def analytic_solution(vartheta, dt, t_max):\n",
    "    x_analytic = []\n",
    "    z_analytic = []\n",
    "    p_x_analytic = []\n",
    "    p_z_analytic = []\n",
    "    time = []\n",
    "    for time_step in range(int(t_max / dt) + 1):\n",
    "        t = time_step * dt\n",
    "        Y = np.tanh((b*A*t)/(2*B) + c_1)\n",
    "        x = (2 / (p * b)) * ((np.arctanh(Y)/(A*B)) + (np.arctan(A*Y+B)/B) - (1/(1+(A*Y + B)**2))) + c_2\n",
    "        z = (2*(A*Y + B)) / (d*p*(1+(A*Y + B)**2)) - (c/d)\n",
    "        p_x = p\n",
    "        p_z = (d * p * B * (1-(A*Y + B)**2))/(b*(A**2)*(1-Y**2))\n",
    "        \n",
    "        \n",
    "        time.append(t)\n",
    "        x_analytic.append(x)\n",
    "        z_analytic.append(z)\n",
    "        p_x_analytic.append(p_x)\n",
    "        p_z_analytic.append(p_z)\n",
    "\n",
    "    data_df = pd.DataFrame({\n",
    "        'x': x_analytic,\n",
    "        'z': z_analytic,\n",
    "        'p_x': p_x_analytic,\n",
    "        'p_z': p_z_analytic,\n",
    "        't': time\n",
    "    })\n",
    "\n",
    "    return data_df\n"
   ]
  },
  {
   "cell_type": "code",
   "execution_count": 5,
   "metadata": {},
   "outputs": [],
   "source": [
    "def generate_training_time(t_max, dt):\n",
    "    training_time = []\n",
    "    for i in range(int(t_max/dt + 1)):\n",
    "        training_time.append(i*dt)\n",
    "    return training_time"
   ]
  },
  {
   "cell_type": "code",
   "execution_count": 7,
   "metadata": {},
   "outputs": [],
   "source": [
    "import torch\n",
    "import torch.nn as nn\n",
    "import torch.optim as optim\n",
    "import matplotlib.pyplot as plt\n",
    "import pandas as pd\n",
    "from tqdm import tqdm\n",
    "from torch.utils.data import TensorDataset, DataLoader\n",
    "from torch.optim.lr_scheduler import _LRScheduler\n",
    "\n",
    "torch.manual_seed(0)\n",
    "\n",
    "# model\n",
    "class Net(nn.Module):\n",
    "    def __init__(self, hidden_size):\n",
    "        super(Net, self).__init__()\n",
    "        self.linear_input = nn.Linear(1, hidden_size)\n",
    "        self.linear_1 = nn.Linear(hidden_size, hidden_size)\n",
    "        self.linear_2 = nn.Linear(hidden_size, hidden_size)\n",
    "        self.linear_3 = nn.Linear(hidden_size, hidden_size)\n",
    "        self.linear_4 = nn.Linear(hidden_size, hidden_size)\n",
    "        self.linear_5 = nn.Linear(hidden_size, hidden_size)\n",
    "        self.linear_6 = nn.Linear(hidden_size, hidden_size)\n",
    "        self.linear_output = nn.Linear(hidden_size, 4)\n",
    "\n",
    "    def forward(self, x):\n",
    "        x = torch.tanh(self.linear_input(x))\n",
    "        x = torch.tanh(self.linear_1(x))\n",
    "        x = torch.tanh(self.linear_2(x))\n",
    "        x = torch.tanh(self.linear_3(x))\n",
    "        x = torch.tanh(self.linear_4(x))\n",
    "        x = torch.tanh(self.linear_5(x))\n",
    "        x = torch.tanh(self.linear_6(x))\n",
    "        x = self.linear_output(x)\n",
    "        return x\n",
    "\n",
    "hidden_size= 48\n",
    "num_epochs = 45000\n",
    "lr=0.001"
   ]
  },
  {
   "cell_type": "code",
   "execution_count": 8,
   "metadata": {},
   "outputs": [
    {
     "name": "stderr",
     "output_type": "stream",
     "text": [
      "  0%|          | 0/45000 [00:00<?, ?it/s]C:\\Users\\Selin\\AppData\\Local\\Temp\\ipykernel_12212\\3515364752.py:24: UserWarning: To copy construct from a tensor, it is recommended to use sourceTensor.clone().detach() or sourceTensor.clone().detach().requires_grad_(True), rather than torch.tensor(sourceTensor).\n",
      "  batch_time = torch.tensor(batch[0])\n",
      "  2%|▏         | 1010/45000 [00:17<13:16, 55.23it/s]"
     ]
    },
    {
     "name": "stdout",
     "output_type": "stream",
     "text": [
      "Epoch 1000/45000, Total Loss: 1.69e+02, Total Physics Loss: 1.22e+02, Initial Position Loss x: 1.16e-02, Initial Position Loss z: 7.35e-04, Initial Momentum Loss x: 2.04e-07, Initial Momentum Loss z: 7.59e-06, Energy Loss: 3.41e-04, LR: 0.001\n"
     ]
    },
    {
     "name": "stderr",
     "output_type": "stream",
     "text": [
      "  4%|▍         | 2009/45000 [00:36<14:29, 49.42it/s]"
     ]
    },
    {
     "name": "stdout",
     "output_type": "stream",
     "text": [
      "Epoch 2000/45000, Total Loss: 4.12e+01, Total Physics Loss: 3.48e+01, Initial Position Loss x: 3.03e-04, Initial Position Loss z: 2.30e-06, Initial Momentum Loss x: 5.24e-06, Initial Momentum Loss z: 4.83e-06, Energy Loss: 5.14e-05, LR: 0.0009000000000000001\n"
     ]
    },
    {
     "name": "stderr",
     "output_type": "stream",
     "text": [
      "  7%|▋         | 3008/45000 [00:56<14:34, 48.04it/s]"
     ]
    },
    {
     "name": "stdout",
     "output_type": "stream",
     "text": [
      "Epoch 3000/45000, Total Loss: 2.28e+01, Total Physics Loss: 1.39e+01, Initial Position Loss x: 1.70e-03, Initial Position Loss z: 1.21e-05, Initial Momentum Loss x: 8.55e-06, Initial Momentum Loss z: 3.94e-07, Energy Loss: 6.30e-05, LR: 0.0008100000000000001\n"
     ]
    },
    {
     "name": "stderr",
     "output_type": "stream",
     "text": [
      "  9%|▉         | 4006/45000 [01:16<13:36, 50.18it/s]"
     ]
    },
    {
     "name": "stdout",
     "output_type": "stream",
     "text": [
      "Epoch 4000/45000, Total Loss: 7.81e+00, Total Physics Loss: 6.96e+00, Initial Position Loss x: 3.43e-06, Initial Position Loss z: 5.37e-06, Initial Momentum Loss x: 3.20e-06, Initial Momentum Loss z: 7.38e-07, Energy Loss: 4.47e-06, LR: 0.000729\n"
     ]
    },
    {
     "name": "stderr",
     "output_type": "stream",
     "text": [
      " 11%|█         | 5006/45000 [01:36<12:45, 52.25it/s]"
     ]
    },
    {
     "name": "stdout",
     "output_type": "stream",
     "text": [
      "Epoch 5000/45000, Total Loss: 4.63e+00, Total Physics Loss: 4.18e+00, Initial Position Loss x: 3.54e-07, Initial Position Loss z: 1.06e-07, Initial Momentum Loss x: 2.46e-06, Initial Momentum Loss z: 7.08e-08, Energy Loss: 2.00e-06, LR: 0.0006561000000000001\n"
     ]
    },
    {
     "name": "stderr",
     "output_type": "stream",
     "text": [
      " 13%|█▎        | 6009/45000 [01:57<12:45, 50.92it/s]"
     ]
    },
    {
     "name": "stdout",
     "output_type": "stream",
     "text": [
      "Epoch 6000/45000, Total Loss: 6.87e+00, Total Physics Loss: 5.27e+00, Initial Position Loss x: 1.93e-04, Initial Position Loss z: 2.79e-06, Initial Momentum Loss x: 1.46e-07, Initial Momentum Loss z: 3.52e-08, Energy Loss: 1.38e-05, LR: 0.00059049\n"
     ]
    },
    {
     "name": "stderr",
     "output_type": "stream",
     "text": [
      " 16%|█▌        | 7009/45000 [02:17<12:49, 49.39it/s]"
     ]
    },
    {
     "name": "stdout",
     "output_type": "stream",
     "text": [
      "Epoch 7000/45000, Total Loss: 2.32e+00, Total Physics Loss: 2.08e+00, Initial Position Loss x: 4.47e-06, Initial Position Loss z: 2.05e-06, Initial Momentum Loss x: 7.93e-07, Initial Momentum Loss z: 8.05e-11, Energy Loss: 1.54e-06, LR: 0.000531441\n"
     ]
    },
    {
     "name": "stderr",
     "output_type": "stream",
     "text": [
      " 18%|█▊        | 8007/45000 [02:38<12:42, 48.50it/s]"
     ]
    },
    {
     "name": "stdout",
     "output_type": "stream",
     "text": [
      "Epoch 8000/45000, Total Loss: 1.06e+01, Total Physics Loss: 5.80e+00, Initial Position Loss x: 6.82e-04, Initial Position Loss z: 1.92e-04, Initial Momentum Loss x: 1.47e-06, Initial Momentum Loss z: 6.16e-06, Energy Loss: 3.19e-05, LR: 0.0004782969\n"
     ]
    },
    {
     "name": "stderr",
     "output_type": "stream",
     "text": [
      " 20%|██        | 9004/45000 [03:01<11:52, 50.54it/s]"
     ]
    },
    {
     "name": "stdout",
     "output_type": "stream",
     "text": [
      "Epoch 9000/45000, Total Loss: 1.22e+00, Total Physics Loss: 1.13e+00, Initial Position Loss x: 4.37e-06, Initial Position Loss z: 2.46e-08, Initial Momentum Loss x: 2.81e-07, Initial Momentum Loss z: 2.12e-08, Energy Loss: 5.62e-07, LR: 0.00043046721\n"
     ]
    },
    {
     "name": "stderr",
     "output_type": "stream",
     "text": [
      " 22%|██▏       | 10008/45000 [03:22<11:40, 49.93it/s]"
     ]
    },
    {
     "name": "stdout",
     "output_type": "stream",
     "text": [
      "Epoch 10000/45000, Total Loss: 9.31e-01, Total Physics Loss: 8.59e-01, Initial Position Loss x: 1.44e-07, Initial Position Loss z: 4.61e-07, Initial Momentum Loss x: 1.96e-07, Initial Momentum Loss z: 1.11e-08, Energy Loss: 5.11e-07, LR: 0.000387420489\n"
     ]
    },
    {
     "name": "stderr",
     "output_type": "stream",
     "text": [
      " 24%|██▍       | 11007/45000 [03:43<11:31, 49.15it/s]"
     ]
    },
    {
     "name": "stdout",
     "output_type": "stream",
     "text": [
      "Epoch 11000/45000, Total Loss: 6.95e-01, Total Physics Loss: 6.43e-01, Initial Position Loss x: 5.70e-06, Initial Position Loss z: 3.73e-07, Initial Momentum Loss x: 8.14e-08, Initial Momentum Loss z: 2.73e-09, Energy Loss: 3.71e-07, LR: 0.0003486784401\n"
     ]
    },
    {
     "name": "stderr",
     "output_type": "stream",
     "text": [
      " 27%|██▋       | 12009/45000 [04:04<11:25, 48.13it/s]"
     ]
    },
    {
     "name": "stdout",
     "output_type": "stream",
     "text": [
      "Epoch 12000/45000, Total Loss: 5.24e-01, Total Physics Loss: 4.72e-01, Initial Position Loss x: 2.72e-06, Initial Position Loss z: 3.62e-08, Initial Momentum Loss x: 1.36e-07, Initial Momentum Loss z: 4.90e-09, Energy Loss: 3.55e-07, LR: 0.00031381059609000004\n"
     ]
    },
    {
     "name": "stderr",
     "output_type": "stream",
     "text": [
      " 29%|██▉       | 13007/45000 [04:25<11:01, 48.35it/s]"
     ]
    },
    {
     "name": "stdout",
     "output_type": "stream",
     "text": [
      "Epoch 13000/45000, Total Loss: 9.79e-01, Total Physics Loss: 5.69e-01, Initial Position Loss x: 1.24e-04, Initial Position Loss z: 1.45e-05, Initial Momentum Loss x: 3.12e-07, Initial Momentum Loss z: 7.42e-07, Energy Loss: 1.66e-06, LR: 0.00028242953648100003\n"
     ]
    },
    {
     "name": "stderr",
     "output_type": "stream",
     "text": [
      " 31%|███       | 14008/45000 [04:48<10:32, 48.97it/s]"
     ]
    },
    {
     "name": "stdout",
     "output_type": "stream",
     "text": [
      "Epoch 14000/45000, Total Loss: 1.06e+01, Total Physics Loss: 4.26e+00, Initial Position Loss x: 1.64e-03, Initial Position Loss z: 3.76e-06, Initial Momentum Loss x: 3.50e-06, Initial Momentum Loss z: 3.99e-07, Energy Loss: 4.36e-05, LR: 0.00025418658283290005\n"
     ]
    },
    {
     "name": "stderr",
     "output_type": "stream",
     "text": [
      " 33%|███▎      | 15005/45000 [05:09<10:37, 47.04it/s]"
     ]
    },
    {
     "name": "stdout",
     "output_type": "stream",
     "text": [
      "Epoch 15000/45000, Total Loss: 7.05e-01, Total Physics Loss: 3.69e-01, Initial Position Loss x: 1.06e-04, Initial Position Loss z: 1.53e-05, Initial Momentum Loss x: 2.46e-07, Initial Momentum Loss z: 5.55e-07, Energy Loss: 1.34e-06, LR: 0.00022876792454961005\n"
     ]
    },
    {
     "name": "stderr",
     "output_type": "stream",
     "text": [
      " 36%|███▌      | 16006/45000 [05:30<09:52, 48.92it/s]"
     ]
    },
    {
     "name": "stdout",
     "output_type": "stream",
     "text": [
      "Epoch 16000/45000, Total Loss: 2.50e+00, Total Physics Loss: 1.11e+00, Initial Position Loss x: 2.15e-04, Initial Position Loss z: 2.61e-06, Initial Momentum Loss x: 2.43e-07, Initial Momentum Loss z: 5.89e-07, Energy Loss: 1.09e-05, LR: 0.00020589113209464906\n"
     ]
    },
    {
     "name": "stderr",
     "output_type": "stream",
     "text": [
      " 38%|███▊      | 17008/45000 [05:52<10:08, 46.03it/s]"
     ]
    },
    {
     "name": "stdout",
     "output_type": "stream",
     "text": [
      "Epoch 17000/45000, Total Loss: 2.48e-01, Total Physics Loss: 1.98e-01, Initial Position Loss x: 5.98e-06, Initial Position Loss z: 2.95e-06, Initial Momentum Loss x: 2.03e-09, Initial Momentum Loss z: 3.18e-08, Energy Loss: 3.69e-07, LR: 0.00018530201888518417\n"
     ]
    },
    {
     "name": "stderr",
     "output_type": "stream",
     "text": [
      " 40%|████      | 18007/45000 [06:13<09:01, 49.83it/s]"
     ]
    },
    {
     "name": "stdout",
     "output_type": "stream",
     "text": [
      "Epoch 18000/45000, Total Loss: 1.44e-01, Total Physics Loss: 1.29e-01, Initial Position Loss x: 5.77e-07, Initial Position Loss z: 1.06e-07, Initial Momentum Loss x: 1.52e-08, Initial Momentum Loss z: 6.69e-09, Energy Loss: 1.23e-07, LR: 0.00016677181699666576\n"
     ]
    },
    {
     "name": "stderr",
     "output_type": "stream",
     "text": [
      " 42%|████▏     | 19010/45000 [06:34<08:57, 48.34it/s]"
     ]
    },
    {
     "name": "stdout",
     "output_type": "stream",
     "text": [
      "Epoch 19000/45000, Total Loss: 1.20e-01, Total Physics Loss: 1.12e-01, Initial Position Loss x: 1.11e-07, Initial Position Loss z: 1.61e-07, Initial Momentum Loss x: 5.05e-09, Initial Momentum Loss z: 1.18e-10, Energy Loss: 7.34e-08, LR: 0.0001500946352969992\n"
     ]
    },
    {
     "name": "stderr",
     "output_type": "stream",
     "text": [
      " 44%|████▍     | 20008/45000 [06:56<08:41, 47.92it/s]"
     ]
    },
    {
     "name": "stdout",
     "output_type": "stream",
     "text": [
      "Epoch 20000/45000, Total Loss: 1.06e-01, Total Physics Loss: 9.85e-02, Initial Position Loss x: 2.60e-07, Initial Position Loss z: 6.29e-09, Initial Momentum Loss x: 2.91e-09, Initial Momentum Loss z: 9.57e-10, Energy Loss: 6.86e-08, LR: 0.0001350851717672993\n"
     ]
    },
    {
     "name": "stderr",
     "output_type": "stream",
     "text": [
      " 47%|████▋     | 21007/45000 [07:18<08:31, 46.90it/s]"
     ]
    },
    {
     "name": "stdout",
     "output_type": "stream",
     "text": [
      "Epoch 21000/45000, Total Loss: 9.22e-02, Total Physics Loss: 8.56e-02, Initial Position Loss x: 5.62e-08, Initial Position Loss z: 4.34e-09, Initial Momentum Loss x: 5.18e-09, Initial Momentum Loss z: 4.48e-10, Energy Loss: 5.98e-08, LR: 0.00012157665459056936\n"
     ]
    },
    {
     "name": "stderr",
     "output_type": "stream",
     "text": [
      " 49%|████▉     | 22009/45000 [07:40<08:09, 46.97it/s]"
     ]
    },
    {
     "name": "stdout",
     "output_type": "stream",
     "text": [
      "Epoch 22000/45000, Total Loss: 9.05e-02, Total Physics Loss: 7.98e-02, Initial Position Loss x: 1.10e-06, Initial Position Loss z: 8.53e-08, Initial Momentum Loss x: 8.31e-09, Initial Momentum Loss z: 4.24e-09, Energy Loss: 8.22e-08, LR: 0.00010941898913151243\n"
     ]
    },
    {
     "name": "stderr",
     "output_type": "stream",
     "text": [
      " 51%|█████     | 23005/45000 [08:03<09:47, 37.46it/s]"
     ]
    },
    {
     "name": "stdout",
     "output_type": "stream",
     "text": [
      "Epoch 23000/45000, Total Loss: 7.59e-02, Total Physics Loss: 7.10e-02, Initial Position Loss x: 5.02e-10, Initial Position Loss z: 2.17e-08, Initial Momentum Loss x: 2.58e-09, Initial Momentum Loss z: 6.57e-11, Energy Loss: 4.57e-08, LR: 9.847709021836118e-05\n"
     ]
    },
    {
     "name": "stderr",
     "output_type": "stream",
     "text": [
      " 53%|█████▎    | 24005/45000 [08:28<07:58, 43.87it/s]"
     ]
    },
    {
     "name": "stdout",
     "output_type": "stream",
     "text": [
      "Epoch 24000/45000, Total Loss: 1.13e+00, Total Physics Loss: 6.60e-01, Initial Position Loss x: 2.81e-07, Initial Position Loss z: 1.51e-05, Initial Momentum Loss x: 1.00e-10, Initial Momentum Loss z: 2.66e-07, Energy Loss: 4.25e-06, LR: 8.862938119652506e-05\n"
     ]
    },
    {
     "name": "stderr",
     "output_type": "stream",
     "text": [
      " 56%|█████▌    | 25007/45000 [08:53<07:54, 42.16it/s]"
     ]
    },
    {
     "name": "stdout",
     "output_type": "stream",
     "text": [
      "Epoch 25000/45000, Total Loss: 6.55e-02, Total Physics Loss: 6.14e-02, Initial Position Loss x: 1.88e-08, Initial Position Loss z: 6.03e-08, Initial Momentum Loss x: 1.29e-09, Initial Momentum Loss z: 7.47e-11, Energy Loss: 3.93e-08, LR: 7.976644307687256e-05\n"
     ]
    },
    {
     "name": "stderr",
     "output_type": "stream",
     "text": [
      " 58%|█████▊    | 26006/45000 [09:15<06:56, 45.58it/s]"
     ]
    },
    {
     "name": "stdout",
     "output_type": "stream",
     "text": [
      "Epoch 26000/45000, Total Loss: 6.13e-02, Total Physics Loss: 5.76e-02, Initial Position Loss x: 6.63e-10, Initial Position Loss z: 2.28e-08, Initial Momentum Loss x: 1.29e-09, Initial Momentum Loss z: 3.04e-11, Energy Loss: 3.52e-08, LR: 7.17897987691853e-05\n"
     ]
    },
    {
     "name": "stderr",
     "output_type": "stream",
     "text": [
      " 60%|██████    | 27006/45000 [09:38<07:24, 40.44it/s]"
     ]
    },
    {
     "name": "stdout",
     "output_type": "stream",
     "text": [
      "Epoch 27000/45000, Total Loss: 3.56e-01, Total Physics Loss: 2.37e-01, Initial Position Loss x: 1.95e-07, Initial Position Loss z: 4.19e-06, Initial Momentum Loss x: 6.75e-10, Initial Momentum Loss z: 3.34e-08, Energy Loss: 1.12e-06, LR: 6.461081889226677e-05\n"
     ]
    },
    {
     "name": "stderr",
     "output_type": "stream",
     "text": [
      " 62%|██████▏   | 28008/45000 [10:01<06:12, 45.67it/s]"
     ]
    },
    {
     "name": "stdout",
     "output_type": "stream",
     "text": [
      "Epoch 28000/45000, Total Loss: 1.98e-01, Total Physics Loss: 1.22e-01, Initial Position Loss x: 1.24e-05, Initial Position Loss z: 4.42e-06, Initial Momentum Loss x: 5.96e-09, Initial Momentum Loss z: 7.34e-08, Energy Loss: 5.03e-07, LR: 5.81497370030401e-05\n"
     ]
    },
    {
     "name": "stderr",
     "output_type": "stream",
     "text": [
      " 64%|██████▍   | 29003/45000 [10:26<08:08, 32.76it/s]"
     ]
    },
    {
     "name": "stdout",
     "output_type": "stream",
     "text": [
      "Epoch 29000/45000, Total Loss: 7.07e-02, Total Physics Loss: 5.89e-02, Initial Position Loss x: 1.22e-06, Initial Position Loss z: 6.71e-07, Initial Momentum Loss x: 3.14e-11, Initial Momentum Loss z: 9.01e-09, Energy Loss: 9.09e-08, LR: 5.233476330273609e-05\n"
     ]
    },
    {
     "name": "stderr",
     "output_type": "stream",
     "text": [
      " 67%|██████▋   | 30008/45000 [10:49<05:48, 43.07it/s]"
     ]
    },
    {
     "name": "stdout",
     "output_type": "stream",
     "text": [
      "Epoch 30000/45000, Total Loss: 1.83e-01, Total Physics Loss: 1.14e-01, Initial Position Loss x: 6.84e-06, Initial Position Loss z: 3.87e-06, Initial Momentum Loss x: 2.26e-09, Initial Momentum Loss z: 7.15e-08, Energy Loss: 5.07e-07, LR: 4.7101286972462485e-05\n"
     ]
    },
    {
     "name": "stderr",
     "output_type": "stream",
     "text": [
      " 69%|██████▉   | 31002/45000 [11:12<09:17, 25.12it/s]"
     ]
    },
    {
     "name": "stdout",
     "output_type": "stream",
     "text": [
      "Epoch 31000/45000, Total Loss: 8.02e-02, Total Physics Loss: 6.63e-02, Initial Position Loss x: 3.24e-08, Initial Position Loss z: 2.01e-07, Initial Momentum Loss x: 8.06e-10, Initial Momentum Loss z: 4.22e-11, Energy Loss: 1.36e-07, LR: 4.239115827521624e-05\n"
     ]
    },
    {
     "name": "stderr",
     "output_type": "stream",
     "text": [
      " 71%|███████   | 32005/45000 [11:37<04:52, 44.40it/s]"
     ]
    },
    {
     "name": "stdout",
     "output_type": "stream",
     "text": [
      "Epoch 32000/45000, Total Loss: 5.05e-02, Total Physics Loss: 4.43e-02, Initial Position Loss x: 1.87e-07, Initial Position Loss z: 1.14e-07, Initial Momentum Loss x: 1.31e-10, Initial Momentum Loss z: 3.44e-09, Energy Loss: 5.60e-08, LR: 3.8152042447694614e-05\n"
     ]
    },
    {
     "name": "stderr",
     "output_type": "stream",
     "text": [
      " 73%|███████▎  | 33008/45000 [12:00<04:45, 42.04it/s]"
     ]
    },
    {
     "name": "stdout",
     "output_type": "stream",
     "text": [
      "Epoch 33000/45000, Total Loss: 4.47e-02, Total Physics Loss: 4.21e-02, Initial Position Loss x: 1.90e-09, Initial Position Loss z: 2.88e-08, Initial Momentum Loss x: 3.29e-10, Initial Momentum Loss z: 2.94e-11, Energy Loss: 2.46e-08, LR: 3.433683820292515e-05\n"
     ]
    },
    {
     "name": "stderr",
     "output_type": "stream",
     "text": [
      " 76%|███████▌  | 34009/45000 [12:23<03:53, 47.02it/s]"
     ]
    },
    {
     "name": "stdout",
     "output_type": "stream",
     "text": [
      "Epoch 34000/45000, Total Loss: 3.05e-01, Total Physics Loss: 1.86e-01, Initial Position Loss x: 5.40e-06, Initial Position Loss z: 3.77e-06, Initial Momentum Loss x: 6.41e-09, Initial Momentum Loss z: 6.39e-08, Energy Loss: 1.03e-06, LR: 3.090315438263264e-05\n"
     ]
    },
    {
     "name": "stderr",
     "output_type": "stream",
     "text": [
      " 78%|███████▊  | 35006/45000 [12:45<03:48, 43.74it/s]"
     ]
    },
    {
     "name": "stdout",
     "output_type": "stream",
     "text": [
      "Epoch 35000/45000, Total Loss: 5.60e-02, Total Physics Loss: 4.77e-02, Initial Position Loss x: 6.85e-08, Initial Position Loss z: 3.75e-08, Initial Momentum Loss x: 1.29e-11, Initial Momentum Loss z: 7.90e-10, Energy Loss: 8.13e-08, LR: 2.7812838944369376e-05\n"
     ]
    },
    {
     "name": "stderr",
     "output_type": "stream",
     "text": [
      " 80%|████████  | 36005/45000 [13:08<03:31, 42.55it/s]"
     ]
    },
    {
     "name": "stdout",
     "output_type": "stream",
     "text": [
      "Epoch 36000/45000, Total Loss: 4.10e-02, Total Physics Loss: 3.88e-02, Initial Position Loss x: 6.00e-08, Initial Position Loss z: 4.63e-09, Initial Momentum Loss x: 5.26e-10, Initial Momentum Loss z: 1.98e-10, Energy Loss: 2.08e-08, LR: 2.503155504993244e-05\n"
     ]
    },
    {
     "name": "stderr",
     "output_type": "stream",
     "text": [
      " 82%|████████▏ | 37003/45000 [13:31<03:36, 36.95it/s]"
     ]
    },
    {
     "name": "stdout",
     "output_type": "stream",
     "text": [
      "Epoch 37000/45000, Total Loss: 3.97e-02, Total Physics Loss: 3.76e-02, Initial Position Loss x: 2.36e-09, Initial Position Loss z: 1.25e-08, Initial Momentum Loss x: 2.43e-10, Initial Momentum Loss z: 2.59e-12, Energy Loss: 2.08e-08, LR: 2.2528399544939195e-05\n"
     ]
    },
    {
     "name": "stderr",
     "output_type": "stream",
     "text": [
      " 84%|████████▍ | 38005/45000 [13:54<02:46, 42.06it/s]"
     ]
    },
    {
     "name": "stdout",
     "output_type": "stream",
     "text": [
      "Epoch 38000/45000, Total Loss: 3.94e-02, Total Physics Loss: 3.70e-02, Initial Position Loss x: 6.97e-08, Initial Position Loss z: 2.66e-10, Initial Momentum Loss x: 4.28e-10, Initial Momentum Loss z: 4.33e-10, Energy Loss: 2.27e-08, LR: 2.0275559590445276e-05\n"
     ]
    },
    {
     "name": "stderr",
     "output_type": "stream",
     "text": [
      " 87%|████████▋ | 39007/45000 [14:17<02:13, 44.77it/s]"
     ]
    },
    {
     "name": "stdout",
     "output_type": "stream",
     "text": [
      "Epoch 39000/45000, Total Loss: 3.79e-02, Total Physics Loss: 3.60e-02, Initial Position Loss x: 1.94e-09, Initial Position Loss z: 9.17e-09, Initial Momentum Loss x: 1.73e-10, Initial Momentum Loss z: 1.69e-11, Energy Loss: 1.92e-08, LR: 1.8248003631400748e-05\n"
     ]
    },
    {
     "name": "stderr",
     "output_type": "stream",
     "text": [
      " 89%|████████▉ | 40006/45000 [14:39<01:48, 46.02it/s]"
     ]
    },
    {
     "name": "stdout",
     "output_type": "stream",
     "text": [
      "Epoch 40000/45000, Total Loss: 3.71e-02, Total Physics Loss: 3.52e-02, Initial Position Loss x: 1.12e-09, Initial Position Loss z: 1.08e-08, Initial Momentum Loss x: 1.44e-10, Initial Momentum Loss z: 7.19e-12, Energy Loss: 1.85e-08, LR: 1.6423203268260675e-05\n"
     ]
    },
    {
     "name": "stderr",
     "output_type": "stream",
     "text": [
      " 91%|█████████ | 41005/45000 [15:02<01:44, 38.14it/s]"
     ]
    },
    {
     "name": "stdout",
     "output_type": "stream",
     "text": [
      "Epoch 41000/45000, Total Loss: 3.64e-02, Total Physics Loss: 3.46e-02, Initial Position Loss x: 3.68e-10, Initial Position Loss z: 1.12e-08, Initial Momentum Loss x: 1.18e-10, Initial Momentum Loss z: 3.41e-12, Energy Loss: 1.80e-08, LR: 1.4780882941434607e-05\n"
     ]
    },
    {
     "name": "stderr",
     "output_type": "stream",
     "text": [
      " 93%|█████████▎| 42007/45000 [15:25<01:04, 46.68it/s]"
     ]
    },
    {
     "name": "stdout",
     "output_type": "stream",
     "text": [
      "Epoch 42000/45000, Total Loss: 3.57e-02, Total Physics Loss: 3.40e-02, Initial Position Loss x: 9.83e-10, Initial Position Loss z: 1.07e-08, Initial Momentum Loss x: 1.11e-10, Initial Momentum Loss z: 4.35e-12, Energy Loss: 1.75e-08, LR: 1.3302794647291146e-05\n"
     ]
    },
    {
     "name": "stderr",
     "output_type": "stream",
     "text": [
      " 96%|█████████▌| 43005/45000 [15:47<00:47, 42.19it/s]"
     ]
    },
    {
     "name": "stdout",
     "output_type": "stream",
     "text": [
      "Epoch 43000/45000, Total Loss: 3.51e-02, Total Physics Loss: 3.34e-02, Initial Position Loss x: 1.27e-09, Initial Position Loss z: 9.82e-09, Initial Momentum Loss x: 1.00e-10, Initial Momentum Loss z: 5.97e-12, Energy Loss: 1.70e-08, LR: 1.1972515182562031e-05\n"
     ]
    },
    {
     "name": "stderr",
     "output_type": "stream",
     "text": [
      " 98%|█████████▊| 44007/45000 [16:10<00:22, 45.08it/s]"
     ]
    },
    {
     "name": "stdout",
     "output_type": "stream",
     "text": [
      "Epoch 44000/45000, Total Loss: 3.66e-02, Total Physics Loss: 3.39e-02, Initial Position Loss x: 2.72e-07, Initial Position Loss z: 1.12e-07, Initial Momentum Loss x: 6.50e-11, Initial Momentum Loss z: 1.11e-09, Energy Loss: 2.19e-08, LR: 1.0775263664305828e-05\n"
     ]
    },
    {
     "name": "stderr",
     "output_type": "stream",
     "text": [
      "100%|██████████| 45000/45000 [16:34<00:00, 45.26it/s]"
     ]
    },
    {
     "name": "stdout",
     "output_type": "stream",
     "text": [
      "Epoch 45000/45000, Total Loss: 3.40e-02, Total Physics Loss: 3.23e-02, Initial Position Loss x: 2.25e-10, Initial Position Loss z: 1.60e-08, Initial Momentum Loss x: 5.48e-11, Initial Momentum Loss z: 6.42e-12, Energy Loss: 1.62e-08, LR: 9.697737297875246e-06\n"
     ]
    },
    {
     "name": "stderr",
     "output_type": "stream",
     "text": [
      "\n"
     ]
    }
   ],
   "source": [
    "# Define the model, loss function, optimizer and scheduler\n",
    "model = Net(hidden_size=hidden_size)\n",
    "optimizer = optim.Adam(model.parameters(), lr=lr, betas=(0.9, 0.999), weight_decay=0.1)\n",
    "scheduler = optim.lr_scheduler.StepLR(optimizer, step_size=1000, gamma=0.9)\n",
    "\n",
    "training_time = generate_training_time(t_max, dt)\n",
    "training_time_tensor = torch.tensor(training_time)\n",
    "\n",
    "initial_time = torch.tensor([0.0], dtype=torch.float32).requires_grad_(True)\n",
    "final_time = torch.tensor([t_max], dtype=torch.float32).requires_grad_(True)\n",
    "\n",
    "batch_size = len(training_time_tensor)\n",
    "dataset = TensorDataset(training_time_tensor)\n",
    "data_loader = DataLoader(dataset, batch_size=batch_size, shuffle=True)\n",
    "\n",
    "losses_total = []\n",
    "losses_physics = []\n",
    "losses_IC = []\n",
    "losses_energy = []\n",
    "\n",
    "for epoch in tqdm(range(num_epochs)):\n",
    "    optimizer.zero_grad() \n",
    "    for batch in data_loader:\n",
    "        batch_time = torch.tensor(batch[0])       \n",
    "        batch_time = batch_time.requires_grad_(True).view(-1, 1)\n",
    "\n",
    "        ##################################################################################\n",
    "        # Calculate the physics loss\n",
    "\n",
    "        output = model(batch_time)\n",
    "        output_x = output[:, 0].view(-1, 1)\n",
    "        output_z = output[:, 1].view(-1, 1)\n",
    "        output_p_x = output[:, 2].view(-1, 1)\n",
    "        output_p_z = output[:, 3].view(-1, 1)\n",
    "        \n",
    "        ##################################################################################\n",
    "        # Calculate the derivatives\n",
    "\n",
    "        xdot = torch.autograd.grad(output_x, batch_time, torch.ones_like(output_x), create_graph=True)[0]\n",
    "        zdot = torch.autograd.grad(output_z, batch_time, torch.ones_like(output_z), create_graph=True)[0]\n",
    "        p_x_dot = torch.autograd.grad(output_p_x, batch_time, torch.ones_like(output_p_x), create_graph=True)[0]\n",
    "        p_z_dot = torch.autograd.grad(output_p_z, batch_time, torch.ones_like(output_p_z), create_graph=True)[0]\n",
    "\n",
    "        ##################################################################################\n",
    "        # Write down the Hamiltonian and calculate the energy loss\n",
    "        \n",
    "        h = ((c+d*output_z)**2 * output_p_x**2 + (a+b*output_z)**2 * output_p_z**2 - 1 ) / 2\n",
    "\n",
    "        energy_loss = torch.mean(h**2)\n",
    "        \n",
    "        ##################################################################################\n",
    "        # Calculate the physics loss\n",
    "        \n",
    "        h_x = (xdot - (c + d * output_z)**2 * output_p_x)\n",
    "        h_z = (zdot - (a + b * output_z)**2 * output_p_z)\n",
    "        h_p_x = (p_x_dot)\n",
    "        h_p_z = (p_z_dot + (d*(c+d*output_z)*output_p_x**2 + b*(a+b*output_z)*output_p_z**2))\n",
    "\n",
    "        physics_x_loss = torch.mean(h_x**2)\n",
    "        physics_z_loss = torch.mean(h_z**2)\n",
    "        physics_p_x_loss = torch.mean(h_p_x**2)\n",
    "        physics_p_z_loss = torch.mean(h_p_z**2)\n",
    "\n",
    "\n",
    "        ##################################################################################\n",
    "        # Calculate the initial position and momentum loss\n",
    "\n",
    "        x_0_tensor = torch.tensor([0.0], dtype=torch.float32).requires_grad_(True)\n",
    "        z_0_tensor = torch.tensor([0.0], dtype=torch.float32).requires_grad_(True)\n",
    "\n",
    "        initial_outputs = model(initial_time)\n",
    "\n",
    "        initial_position_loss_x = (initial_outputs[0] - x_0_tensor)**2\n",
    "        initial_position_loss_z = (initial_outputs[1] - z_0_tensor)**2\n",
    "        \n",
    "        initial_momentum_loss_x = (initial_outputs[2] - np.sin(vartheta) / (np.sqrt( c**2 * np.sin(vartheta)**2 + a**2 * np.cos(vartheta)**2 ))) ** 2\n",
    "        initial_momentum_loss_z = (initial_outputs[3] - np.cos(vartheta) / (np.sqrt( c**2 * np.sin(vartheta)**2 + a**2 * np.cos(vartheta)**2 ))) ** 2\n",
    "      \n",
    "        ##################################################################################\n",
    "        # Calculate the total loss\n",
    "        physics_loss = physics_x_loss * 1e3 +  physics_z_loss * 1e3 + physics_p_x_loss * 1e5 + physics_p_z_loss * 1e5\n",
    "        IC_loss = initial_position_loss_x * 1e3 + initial_position_loss_z * 1e3 + initial_momentum_loss_x * 1e5 + initial_momentum_loss_z * 1e5 \n",
    "        \n",
    "        total_loss =  physics_x_loss * 1e3 +  physics_z_loss * 1e3 + physics_p_x_loss * 1e5 + physics_p_z_loss * 1e5 + initial_position_loss_x * 1e3 + initial_position_loss_z * 1e3 + initial_momentum_loss_x * 1e5 + initial_momentum_loss_z * 1e5 + energy_loss * 1e5\n",
    "        \n",
    "        ##################################################################################\n",
    "\n",
    "        total_loss.backward()  # Backpropagation\n",
    "        optimizer.step()  # Update the weights\n",
    "\n",
    "        ##################################################################################\n",
    "\n",
    "        # Save the losses\n",
    "        \n",
    "        losses_physics.append(physics_loss.item())\n",
    "        losses_IC.append(IC_loss.item())\n",
    "        losses_energy.append(energy_loss.item())\n",
    "        losses_total.append(total_loss.item())\n",
    "\n",
    "        \n",
    "    if (epoch + 1) % 1000 == 0:\n",
    "        print(f\"Epoch {epoch+1}/{num_epochs}, Total Loss: {total_loss.item():.2e}, \"\n",
    "              f\"Total Physics Loss: {physics_loss.item():.2e}, \"\n",
    "              f\"Initial Position Loss x: {initial_position_loss_x.item():.2e}, \"\n",
    "              f\"Initial Position Loss z: {initial_position_loss_z.item():.2e}, \"\n",
    "              f\"Initial Momentum Loss x: {initial_momentum_loss_x.item():.2e}, \"\n",
    "              f\"Initial Momentum Loss z: {initial_momentum_loss_z.item():.2e}, \"\n",
    "              f\"Energy Loss: {energy_loss.item():.2e}, \"\n",
    "              f\"LR: {optimizer.param_groups[0]['lr']}\")\n",
    "    \n",
    "    ##############################################################################\n",
    "\n",
    "    # if the learning rate is too low, do not decrease the learning rate\n",
    "    if optimizer.param_groups[0]['lr'] > 1e-6: \n",
    "        scheduler.step()  # Update the learning rate "
   ]
  },
  {
   "cell_type": "code",
   "execution_count": 11,
   "metadata": {},
   "outputs": [
    {
     "data": {
      "image/png": "[encoded data removed]",
      "text/plain": [
       "<Figure size 640x480 with 1 Axes>"
      ]
     },
     "metadata": {},
     "output_type": "display_data"
    }
   ],
   "source": [
    "result_outputs = model(training_time_tensor.view(-1, 1))\n",
    "\n",
    "result_outputs_df = pd.DataFrame(result_outputs.detach().numpy())\n",
    "result_outputs_df.columns = ['x', 'z', 'p_x', 'p_z']\n",
    "result_outputs_df[\"t\"] = training_time\n",
    "\n",
    "   \n",
    "result_outputs_df[\"z\"] = result_outputs_df[\"z\"] * -1\n",
    "result_outputs_df[\"slope\"] = result_outputs_df[\"x\"] / result_outputs_df[\"z\"]\n",
    "\n",
    "\n",
    "result_outputs_df.to_excel(\"result_outputs_df.xlsx\")\n",
    "\n",
    "true_solution_df = analytic_solution(vartheta, dt, t_max)\n",
    "\n",
    " \n",
    "plt.plot(result_outputs_df[\"x\"],  result_outputs_df[\"z\"], label = \"NN\",  linewidth=5, c = \"tab:blue\", linestyle='dashed')\n",
    "plt.plot(true_solution_df[\"x\"], true_solution_df[\"z\"] * - 1, label = \"Analytic\", c = \"grey\")\n",
    "plt.legend(bbox_to_anchor=(1.05, 1), loc='upper left', borderaxespad=0.)\n",
    "plt.title(f\"time={t_max}, a={a}, b= {b}, c={c}, d={d}, vartheta=pi/{np.pi/vartheta:.2f}\")\n",
    "plt.axvline(x=0, color='black', linestyle='-', linewidth=2)\n",
    "plt.axhline(y=0, color='black', linestyle='-', linewidth=2)\n",
    "plt.xlabel(\"x\")\n",
    "plt.ylabel(\"z\")\n",
    "#plt.xlim(-0.1, 3)\n",
    "#plt.ylim(-5, 0.5)\n",
    "plt.show()"
   ]
  },
  {
   "cell_type": "code",
   "execution_count": 13,
   "metadata": {},
   "outputs": [
    {
     "name": "stdout",
     "output_type": "stream",
     "text": [
      "Final loss: 0.03397398442029953\n"
     ]
    },
    {
     "data": {
      "image/png": "[encoded data removed]",
      "text/plain": [
       "<Figure size 1000x800 with 4 Axes>"
      ]
     },
     "metadata": {},
     "output_type": "display_data"
    }
   ],
   "source": [
    "print('Final loss:', total_loss.item())\n",
    "\n",
    "fig, axs = plt.subplots(2, 2, figsize=(10, 8))\n",
    "\n",
    "axs[0, 0].plot(losses_IC, label='Initial Condition Loss ', color='skyblue')\n",
    "axs[0, 0].set_title('Initial Condition Loss over time')\n",
    "axs[0, 0].set_xlabel('Epoch')\n",
    "axs[0, 0].set_ylabel('Loss')\n",
    "axs[0, 0].set_ylim(0, 30)\n",
    "\n",
    "axs[0, 1].plot(losses_physics, label='Hamiltonian Loss', color='orange')\n",
    "axs[0, 1].set_title('Physics Loss over time')\n",
    "axs[0, 1].set_xlabel('Epoch')\n",
    "axs[0, 1].set_ylabel('Loss')\n",
    "axs[0, 1].set_ylim(0, 50)\n",
    "\n",
    "axs[1, 0].plot(losses_energy, label='Energy Loss', color='green')\n",
    "axs[1, 0].set_title('Energy Loss over time')\n",
    "axs[1, 0].set_xlabel('Epoch')\n",
    "axs[1, 0].set_ylabel('Loss')\n",
    "axs[1, 0].set_ylim(0, 1e-3)\n",
    "\n",
    "axs[1, 1].plot(losses_total, label='Total Loss', color='magenta')\n",
    "axs[1, 1].set_title('Total Loss over time')\n",
    "axs[1, 1].set_xlabel('Epoch')\n",
    "axs[1, 1].set_ylabel('Loss')\n",
    "axs[1, 1].set_ylim(0, 200)\n",
    "\n",
    "plt.tight_layout()\n",
    "plt.show()\n"
   ]
  },
  {
   "cell_type": "code",
   "execution_count": 42,
   "metadata": {},
   "outputs": [
    {
     "name": "stdout",
     "output_type": "stream",
     "text": [
      "501\n"
     ]
    }
   ],
   "source": [
    "print(len(training_time_tensor))"
   ]
  },
  {
   "cell_type": "code",
   "execution_count": null,
   "metadata": {},
   "outputs": [],
   "source": []
  }
 ],
 "metadata": {
  "kernelspec": {
   "display_name": "Python 3 (ipykernel)",
   "language": "python",
   "name": "python3"
  },
  "language_info": {
   "codemirror_mode": {
    "name": "ipython",
    "version": 3
   },
   "file_extension": ".py",
   "mimetype": "text/x-python",
   "name": "python",
   "nbconvert_exporter": "python",
   "pygments_lexer": "ipython3",
   "version": "3.9.18"
  }
 },
 "nbformat": 4,
 "nbformat_minor": 4
}
